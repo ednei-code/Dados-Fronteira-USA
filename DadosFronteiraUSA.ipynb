{
 "cells": [
  {
   "cell_type": "markdown",
   "metadata": {},
   "source": [
    "# EDNEI CUNHA VICENTE"
   ]
  },
  {
   "cell_type": "markdown",
   "metadata": {},
   "source": [
    "# Border Crossing Entry Data"
   ]
  },
  {
   "cell_type": "markdown",
   "metadata": {},
   "source": [
    "# Dados de entrada de passagem de fronteira"
   ]
  },
  {
   "cell_type": "markdown",
   "metadata": {},
   "source": [
    "\n",
    "Os dados de passagem de fronteira do Bureau of Transportation Statistics (BTS) fornecem estatísticas resumidas das passagens de entrada nos EUA-Canadá e na fronteira EUA-México no nível do porto. Os dados estão disponíveis para caminhões, trens, contêineres, ônibus, veículos pessoais, passageiros e pedestres. Os dados de passagem de fronteira são coletados nos portos de entrada pela Alfândega e Proteção de Fronteiras dos EUA (CBP). Os dados refletem o número de veículos, contêineres, passageiros ou pedestres que entram nos Estados Unidos. O CBP não coleta dados comparáveis nas passagens de saída. Os usuários que buscam dados nas contagens de saída podem, portanto, revisar dados de operadores de pontes individuais, governos estaduais de fronteira ou governos mexicano e canadense"
   ]
  },
  {
   "cell_type": "markdown",
   "metadata": {},
   "source": [
    "COBERTURA: Contagens de veículos, contêineres, passageiros e pedestres recebidos nos portos de fronteira terrestre dos EUA-México e EUA-Canadá.\n",
    "\n",
    "DEFINIÇÕES:\n",
    "\n",
    "Passagens de ônibus: Número de ônibus que chegam em um porto específico, estejam ou não transportando passageiros.\n",
    "\n",
    "Contêiner: um contêiner é definido como qualquer transporte que entra nos EUA usado para fins comerciais, cheio ou vazio. Inclui contêineres movendo-se em ligação para a porta que inicia os movimentos ligados.\n",
    "\n",
    "Tipos de contêineres: a seguir, exemplos de contêineres: Caminhão de estacas, caminhão com porta-carros, van, caminhonete / carro, caminhão de mesa, caminhão de cavalinho com dois reboques / contêineres vinculados = 2 contêineres, caminhão reto, caminhão bobtail, vagão , vagão de mesa empilhado com quatro contêineres = 4 contêineres (em cada vagão, se houver vários contêineres de caixa, conte cada contêiner e o vagão de mesa.) e vagão de três níveis com vários contêineres dentro = 3 contêineres\n",
    "\n",
    "Passageiros que cruzam em ônibus: número de pessoas que chegam de ônibus que exigem processamento de Alfândega e Proteção de Fronteiras (CBP) dos EUA.\n",
    "\n",
    "Passageiros que cruzam veículos particulares: pessoas que entram nos Estados Unidos em um porto específico por automóveis particulares, caminhonetes, motocicletas, veículos recreativos, táxis, ambulâncias, carros funerários, tratores, motos de neve e outros veículos terrestres particulares motorizados.\n",
    "\n",
    "Passageiros que cruzam trens: Número de passageiros e tripulantes que chegam de trem e exigem processamento de CBP.\n",
    "\n",
    "Travessias de pedestres: o número de pessoas que chegam a pé ou por um meio de transporte (como bicicletas, ciclomotores ou cadeiras de rodas) que exigem processamento do CBP.\n",
    "\n",
    "Passagens de Veículos Particulares: Número de veículos particulares (POVs) que chegam a um porto específico. Inclui picapes, motocicletas, veículos recreativos, táxis, motos de neve, ambulâncias, carros funerários e outros veículos terrestres particulares motorizados.\n",
    "\n",
    "Travessias de contêiner ferroviário (carregado e vazio): um contêiner é qualquer transporte que entra nos EUA usado para fins comerciais, cheio ou vazio. Nesse caso, é o número de contêineres ferroviários cheios ou vazios que chegam a um porto. Esta série inclui contêineres movendo-se como remessas de entrada.\n",
    "\n",
    "Travessias de trem: Número de trens que chegam em um porto específico.\n",
    "\n",
    "Travessias de contêineres de caminhões (carregadas e vazias): um contêiner é qualquer transporte que entra nos EUA usado para fins comerciais, cheio ou vazio. Nesse caso, é o número de contêineres cheios ou vazios de caminhões que chegam a um porto. Esta série inclui contêineres movendo-se como remessas de entrada.\n",
    "\n",
    "Travessias de caminhões: Número de caminhões que chegam; não inclui pick-ups de propriedade privada."
   ]
  },
  {
   "cell_type": "markdown",
   "metadata": {},
   "source": [
    "Canadá: Os portos de entrada em Noyes, Minnesota e Whitetail, Montana fecharam em junho de 2006 e janeiro de 2013, respectivamente. Caminhões de entrada, PVs de entrada, passageiros de PV, Ônibus de entrada, Passageiros de ônibus e Peões de entrada\n",
    "\n",
    "o Bar Harbor e Portland, Maine (travessia de balsa) - As balsas chegaram de maio a setembro. O ferry de Bar Harbor, Maine para Yarmouth, Nova Escócia não está mais em operação.\n",
    "\n",
    "o Anacortes e Friday Harbor - Os ferries internacionais que conectam Anacortes e Friday Harbor, Washington com Sidney, Colúmbia Britânica, não são executados em fevereiro. Contêineres para caminhões (carregados) e Contêineres para caminhões (descarregados)\n",
    "\n",
    "o Dados de veículos de passageiros e passageiros em veículos pessoais para Cape Vincent, Nova York (balsa) estão disponíveis a partir de 2007. O ferry entre Wolfe Island (Canadá) e Cape Vincent não opera no inverno. Passageiros de trem entrantes\n",
    "\n",
    "o Inclui passageiros e tripulação.\n",
    "\n",
    "o A partir de novembro de 2017, as autoridades do Maine restringem o tráfego internacional de pontes apenas a veículos de passageiros.\n",
    "\n",
    "México: Os dados do porto de Calexico são relatados como um total combinado com o Calexico East.\n",
    "\n",
    "Caminhões que chegam: o Os dados representam o número de passagens de caminhões, não o número de veículos exclusivos, e incluem caminhões carregados e descarregados.\n",
    "\n",
    "Passageiros de trem de entrada: o Inclui tripulação de trem. O BTS não tem conhecimento de nenhum serviço de passageiros atualmente operando na fronteira EUA-México.\n",
    "\n",
    "o O CBP indicou ao BTS que desde 2009 as equipes de trem estão sendo trocadas na fronteira entre o Texas e o México e, portanto, não entram nos Estados Unidos.\n",
    "\n",
    "Inspiração\n",
    "O que podemos discernir desse conjunto de dados?"
   ]
  },
  {
   "cell_type": "markdown",
   "metadata": {},
   "source": [
    "# As colunas do DataSet\n",
    "Port Name =Nome da portaNome da porta de entrada do CBP\n",
    "\n",
    "State = State\n",
    "\n",
    "Port Code = Código da porta CBP\n",
    "\n",
    "Border = Fronteira EUA-Canadá ou EUA-México\n",
    "\n",
    "Date = Year, Month\n",
    "\n",
    "Measure = MedidaTransporte, contêineres, passageiros, pedestres\n",
    "\n",
    "Value = Count\n",
    "\n",
    "Localização = Longitude e Latitude Localização"
   ]
  },
  {
   "cell_type": "code",
   "execution_count": 37,
   "metadata": {},
   "outputs": [],
   "source": [
    "import pandas as pd\n",
    "import matplotlib.pyplot as plt\n",
    "import seaborn as sns\n",
    "%matplotlib inline\n",
    "import datetime"
   ]
  },
  {
   "cell_type": "code",
   "execution_count": 38,
   "metadata": {},
   "outputs": [],
   "source": [
    "df = pd.read_csv('Border_Crossing_Entry_Data.csv')"
   ]
  },
  {
   "cell_type": "code",
   "execution_count": 39,
   "metadata": {},
   "outputs": [
    {
     "data": {
      "text/html": [
       "<div>\n",
       "<style scoped>\n",
       "    .dataframe tbody tr th:only-of-type {\n",
       "        vertical-align: middle;\n",
       "    }\n",
       "\n",
       "    .dataframe tbody tr th {\n",
       "        vertical-align: top;\n",
       "    }\n",
       "\n",
       "    .dataframe thead th {\n",
       "        text-align: right;\n",
       "    }\n",
       "</style>\n",
       "<table border=\"1\" class=\"dataframe\">\n",
       "  <thead>\n",
       "    <tr style=\"text-align: right;\">\n",
       "      <th></th>\n",
       "      <th>Port Name</th>\n",
       "      <th>State</th>\n",
       "      <th>Port Code</th>\n",
       "      <th>Border</th>\n",
       "      <th>Date</th>\n",
       "      <th>Measure</th>\n",
       "      <th>Value</th>\n",
       "      <th>Location</th>\n",
       "    </tr>\n",
       "  </thead>\n",
       "  <tbody>\n",
       "    <tr>\n",
       "      <th>0</th>\n",
       "      <td>Calexico East</td>\n",
       "      <td>California</td>\n",
       "      <td>2507</td>\n",
       "      <td>US-Mexico Border</td>\n",
       "      <td>03/01/2019 12:00:00 AM</td>\n",
       "      <td>Trucks</td>\n",
       "      <td>34447</td>\n",
       "      <td>POINT (-115.48433000000001 32.67524)</td>\n",
       "    </tr>\n",
       "    <tr>\n",
       "      <th>1</th>\n",
       "      <td>Van Buren</td>\n",
       "      <td>Maine</td>\n",
       "      <td>108</td>\n",
       "      <td>US-Canada Border</td>\n",
       "      <td>03/01/2019 12:00:00 AM</td>\n",
       "      <td>Rail Containers Full</td>\n",
       "      <td>428</td>\n",
       "      <td>POINT (-67.94271 47.16207)</td>\n",
       "    </tr>\n",
       "    <tr>\n",
       "      <th>2</th>\n",
       "      <td>Otay Mesa</td>\n",
       "      <td>California</td>\n",
       "      <td>2506</td>\n",
       "      <td>US-Mexico Border</td>\n",
       "      <td>03/01/2019 12:00:00 AM</td>\n",
       "      <td>Trucks</td>\n",
       "      <td>81217</td>\n",
       "      <td>POINT (-117.05333 32.57333)</td>\n",
       "    </tr>\n",
       "    <tr>\n",
       "      <th>3</th>\n",
       "      <td>Nogales</td>\n",
       "      <td>Arizona</td>\n",
       "      <td>2604</td>\n",
       "      <td>US-Mexico Border</td>\n",
       "      <td>03/01/2019 12:00:00 AM</td>\n",
       "      <td>Trains</td>\n",
       "      <td>62</td>\n",
       "      <td>POINT (-110.93361 31.340279999999996)</td>\n",
       "    </tr>\n",
       "    <tr>\n",
       "      <th>4</th>\n",
       "      <td>Trout River</td>\n",
       "      <td>New York</td>\n",
       "      <td>715</td>\n",
       "      <td>US-Canada Border</td>\n",
       "      <td>03/01/2019 12:00:00 AM</td>\n",
       "      <td>Personal Vehicle Passengers</td>\n",
       "      <td>16377</td>\n",
       "      <td>POINT (-73.44253 44.990010000000005)</td>\n",
       "    </tr>\n",
       "  </tbody>\n",
       "</table>\n",
       "</div>"
      ],
      "text/plain": [
       "       Port Name       State  Port Code            Border  \\\n",
       "0  Calexico East  California       2507  US-Mexico Border   \n",
       "1      Van Buren       Maine        108  US-Canada Border   \n",
       "2      Otay Mesa  California       2506  US-Mexico Border   \n",
       "3        Nogales     Arizona       2604  US-Mexico Border   \n",
       "4    Trout River    New York        715  US-Canada Border   \n",
       "\n",
       "                     Date                      Measure  Value  \\\n",
       "0  03/01/2019 12:00:00 AM                       Trucks  34447   \n",
       "1  03/01/2019 12:00:00 AM         Rail Containers Full    428   \n",
       "2  03/01/2019 12:00:00 AM                       Trucks  81217   \n",
       "3  03/01/2019 12:00:00 AM                       Trains     62   \n",
       "4  03/01/2019 12:00:00 AM  Personal Vehicle Passengers  16377   \n",
       "\n",
       "                                Location  \n",
       "0   POINT (-115.48433000000001 32.67524)  \n",
       "1             POINT (-67.94271 47.16207)  \n",
       "2            POINT (-117.05333 32.57333)  \n",
       "3  POINT (-110.93361 31.340279999999996)  \n",
       "4   POINT (-73.44253 44.990010000000005)  "
      ]
     },
     "execution_count": 39,
     "metadata": {},
     "output_type": "execute_result"
    }
   ],
   "source": [
    "df.head()"
   ]
  },
  {
   "cell_type": "code",
   "execution_count": 40,
   "metadata": {},
   "outputs": [
    {
     "data": {
      "text/plain": [
       "(346733, 8)"
      ]
     },
     "execution_count": 40,
     "metadata": {},
     "output_type": "execute_result"
    }
   ],
   "source": [
    "df.shape"
   ]
  },
  {
   "cell_type": "code",
   "execution_count": 41,
   "metadata": {},
   "outputs": [
    {
     "data": {
      "text/plain": [
       "Index(['Port Name', 'State', 'Port Code', 'Border', 'Date', 'Measure', 'Value',\n",
       "       'Location'],\n",
       "      dtype='object')"
      ]
     },
     "execution_count": 41,
     "metadata": {},
     "output_type": "execute_result"
    }
   ],
   "source": [
    "df.columns"
   ]
  },
  {
   "cell_type": "code",
   "execution_count": 42,
   "metadata": {},
   "outputs": [
    {
     "name": "stdout",
     "output_type": "stream",
     "text": [
      "<class 'pandas.core.frame.DataFrame'>\n",
      "RangeIndex: 346733 entries, 0 to 346732\n",
      "Data columns (total 8 columns):\n",
      "Port Name    346733 non-null object\n",
      "State        346733 non-null object\n",
      "Port Code    346733 non-null int64\n",
      "Border       346733 non-null object\n",
      "Date         346733 non-null object\n",
      "Measure      346733 non-null object\n",
      "Value        346733 non-null int64\n",
      "Location     346733 non-null object\n",
      "dtypes: int64(2), object(6)\n",
      "memory usage: 21.2+ MB\n"
     ]
    }
   ],
   "source": [
    "df.info()"
   ]
  },
  {
   "cell_type": "code",
   "execution_count": 43,
   "metadata": {},
   "outputs": [
    {
     "data": {
      "text/plain": [
       "Port Name                      Otay Mesa\n",
       "State                         California\n",
       "Port Code                           2506\n",
       "Border                  US-Mexico Border\n",
       "Date              03/01/2019 12:00:00 AM\n",
       "Measure                           Trucks\n",
       "Value                              81217\n",
       "Location     POINT (-117.05333 32.57333)\n",
       "Name: 2, dtype: object"
      ]
     },
     "execution_count": 43,
     "metadata": {},
     "output_type": "execute_result"
    }
   ],
   "source": [
    "df.iloc[2]"
   ]
  },
  {
   "cell_type": "code",
   "execution_count": 44,
   "metadata": {},
   "outputs": [
    {
     "data": {
      "text/plain": [
       "array(['Calexico East', 'Van Buren', 'Otay Mesa', 'Nogales',\n",
       "       'Trout River', 'Madawaska', 'Pembina', 'Progreso', 'Portal',\n",
       "       'Champlain-Rouses Point', 'Opheim', 'Neche', 'Lancaster',\n",
       "       'Derby Line', 'Sarles', 'Wildhorse', 'Lynden', 'Vanceboro',\n",
       "       'San Ysidro', 'Scobey', 'Beecher Falls', 'Calais', 'Massena',\n",
       "       'Oroville', 'Hansboro', 'Ferry', 'Tecate', 'Eastport', 'Walhalla',\n",
       "       'Roma', 'Naco', 'Boquillas', 'Raymond', 'Porthill', 'Norton',\n",
       "       'Sault Sainte Marie', 'Antler', 'Rio Grande City', 'Del Rio',\n",
       "       'Sasabe', 'Highgate Springs-Alburg', 'Del Bonita', 'Houlton',\n",
       "       'Metaline Falls', 'Fort Fairfield', 'Noonan', 'Westhope', 'Blaine',\n",
       "       'Douglas', 'Port Huron', 'Bridgewater', 'Santa Teresa',\n",
       "       'Lukeville', 'Roseau', 'Skagway', 'Fortuna', 'Frontier',\n",
       "       'Baudette', 'Fort Kent', 'Grand Portage', 'Buffalo-Niagara Falls',\n",
       "       'Calexico', 'Pinecreek', 'Northgate', 'Sherwood', 'Laurier',\n",
       "       'Detroit', 'Jackman', 'Ambrose', 'Turner', 'Dunseith', 'Boundary',\n",
       "       'Sumas', 'Alexandria Bay', 'Eagle Pass', 'Carbury', 'Sweetgrass',\n",
       "       'Piegan', 'Tornillo-Fabens', 'El Paso', 'Port Angeles', 'San Luis',\n",
       "       'Danville', 'Nighthawk', 'Warroad', 'Whitlash', 'Maida',\n",
       "       'Limestone', 'Andrade', 'Hidalgo', 'Richford', 'Point Roberts',\n",
       "       'International Falls-Ranier', 'St. John', 'Columbus',\n",
       "       'Brownsville', 'Presidio', 'Ogdensburg', 'Anacortes', 'Morgan',\n",
       "       'Willow Creek', 'Roosville', 'Laredo', 'Hannah', 'Ketchikan',\n",
       "       'Alcan', 'Dalton Cache', 'Cross Border Xpress', 'Friday Harbor',\n",
       "       'Algonac', 'Portland', 'Cape Vincent', 'Toledo-Sandusky',\n",
       "       'Whitetail', 'Noyes', 'Bar Harbor'], dtype=object)"
      ]
     },
     "execution_count": 44,
     "metadata": {},
     "output_type": "execute_result"
    }
   ],
   "source": [
    "df['Port Name'].unique()"
   ]
  },
  {
   "cell_type": "code",
   "execution_count": 45,
   "metadata": {},
   "outputs": [
    {
     "data": {
      "text/plain": [
       "Eastport                      5541\n",
       "Buffalo-Niagara Falls         3348\n",
       "Calexico East                 3348\n",
       "Nogales                       3348\n",
       "Portal                        3348\n",
       "Sumas                         3348\n",
       "Champlain-Rouses Point        3348\n",
       "El Paso                       3348\n",
       "Calais                        3348\n",
       "Sweetgrass                    3348\n",
       "International Falls-Ranier    3347\n",
       "Jackman                       3346\n",
       "Detroit                       3334\n",
       "Otay Mesa                     3320\n",
       "Blaine                        3316\n",
       "Brownsville                   3316\n",
       "Laredo                        3316\n",
       "Sault Sainte Marie            3316\n",
       "Pembina                       3316\n",
       "Highgate Springs-Alburg       3316\n",
       "Eagle Pass                    3316\n",
       "Port Huron                    3315\n",
       "Van Buren                     3302\n",
       "Northgate                     3299\n",
       "Laurier                       3298\n",
       "Norton                        3293\n",
       "Trout River                   3282\n",
       "Vanceboro                     3280\n",
       "Boundary                      3277\n",
       "Richford                      3275\n",
       "                              ... \n",
       "San Ysidro                    3124\n",
       "Westhope                      3124\n",
       "Antler                        3124\n",
       "Opheim                        3120\n",
       "Limestone                     3119\n",
       "Pinecreek                     3107\n",
       "Whitlash                      3093\n",
       "Hannah                        3085\n",
       "Sasabe                        3079\n",
       "Tornillo-Fabens               3078\n",
       "Ambrose                       3063\n",
       "Andrade                       3060\n",
       "Calexico                      3060\n",
       "Nighthawk                     3038\n",
       "Whitetail                     2592\n",
       "Portland                      2586\n",
       "Port Angeles                  2165\n",
       "Lancaster                     2156\n",
       "Wildhorse                     2128\n",
       "Anacortes                     2021\n",
       "Ketchikan                     1936\n",
       "Friday Harbor                 1877\n",
       "Noyes                         1728\n",
       "Willow Creek                  1723\n",
       "Cape Vincent                  1126\n",
       "Bar Harbor                    1068\n",
       "Boquillas                      250\n",
       "Algonac                         20\n",
       "Cross Border Xpress             18\n",
       "Toledo-Sandusky                  5\n",
       "Name: Port Name, Length: 116, dtype: int64"
      ]
     },
     "execution_count": 45,
     "metadata": {},
     "output_type": "execute_result"
    }
   ],
   "source": [
    "df['Port Name'].value_counts()"
   ]
  },
  {
   "cell_type": "code",
   "execution_count": 46,
   "metadata": {},
   "outputs": [
    {
     "data": {
      "text/plain": [
       "Port Name    object\n",
       "State        object\n",
       "Port Code     int64\n",
       "Border       object\n",
       "Date         object\n",
       "Measure      object\n",
       "Value         int64\n",
       "Location     object\n",
       "dtype: object"
      ]
     },
     "execution_count": 46,
     "metadata": {},
     "output_type": "execute_result"
    }
   ],
   "source": [
    "df.dtypes"
   ]
  },
  {
   "cell_type": "code",
   "execution_count": 47,
   "metadata": {
    "scrolled": true
   },
   "outputs": [
    {
     "data": {
      "text/plain": [
       "array(['California', 'Maine', 'Arizona', 'New York', 'North Dakota',\n",
       "       'Texas', 'Montana', 'Minnesota', 'Vermont', 'Washington', 'Idaho',\n",
       "       'Michigan', 'New Mexico', 'Alaska', 'Ohio'], dtype=object)"
      ]
     },
     "execution_count": 47,
     "metadata": {},
     "output_type": "execute_result"
    }
   ],
   "source": [
    "df['State'].unique()"
   ]
  },
  {
   "cell_type": "code",
   "execution_count": 48,
   "metadata": {},
   "outputs": [
    {
     "data": {
      "text/plain": [
       "North Dakota    57071\n",
       "Washington      44677\n",
       "Montana         38154\n",
       "Maine           38136\n",
       "Texas           35754\n",
       "Minnesota       23135\n",
       "New York        20697\n",
       "Arizona         19252\n",
       "California      19102\n",
       "Vermont         16247\n",
       "Alaska          11529\n",
       "Michigan         9985\n",
       "Idaho            6551\n",
       "New Mexico       6438\n",
       "Ohio                5\n",
       "Name: State, dtype: int64"
      ]
     },
     "execution_count": 48,
     "metadata": {},
     "output_type": "execute_result"
    }
   ],
   "source": [
    "df['State'].value_counts()"
   ]
  },
  {
   "cell_type": "code",
   "execution_count": 49,
   "metadata": {},
   "outputs": [
    {
     "data": {
      "image/png": "[encoded data removed]",
      "text/plain": [
       "<Figure size 504x360 with 1 Axes>"
      ]
     },
     "metadata": {
      "needs_background": "light"
     },
     "output_type": "display_data"
    }
   ],
   "source": [
    "plt.figure(figsize=(7,5))\n",
    "sns.countplot('State',data=df)\n",
    "plt.xticks(rotation=75)\n",
    "plt.show()"
   ]
  },
  {
   "cell_type": "code",
   "execution_count": 50,
   "metadata": {},
   "outputs": [
    {
     "data": {
      "text/plain": [
       "array(['Trucks', 'Rail Containers Full', 'Trains',\n",
       "       'Personal Vehicle Passengers', 'Bus Passengers',\n",
       "       'Truck Containers Empty', 'Rail Containers Empty',\n",
       "       'Personal Vehicles', 'Buses', 'Truck Containers Full',\n",
       "       'Pedestrians', 'Train Passengers'], dtype=object)"
      ]
     },
     "execution_count": 50,
     "metadata": {},
     "output_type": "execute_result"
    }
   ],
   "source": [
    "df['Measure'].unique()"
   ]
  },
  {
   "cell_type": "code",
   "execution_count": 51,
   "metadata": {},
   "outputs": [
    {
     "data": {
      "image/png": "[encoded data removed]",
      "text/plain": [
       "<Figure size 504x360 with 1 Axes>"
      ]
     },
     "metadata": {
      "needs_background": "light"
     },
     "output_type": "display_data"
    }
   ],
   "source": [
    "plt.figure(figsize=(7,5))\n",
    "sns.countplot('Measure',data=df)\n",
    "plt.xticks(rotation=75)\n",
    "plt.show()"
   ]
  },
  {
   "cell_type": "code",
   "execution_count": 52,
   "metadata": {},
   "outputs": [
    {
     "data": {
      "text/plain": [
       "<matplotlib.axes._subplots.AxesSubplot at 0x1fe7b4ae128>"
      ]
     },
     "execution_count": 52,
     "metadata": {},
     "output_type": "execute_result"
    },
    {
     "data": {
      "image/png": "[encoded data removed]",
      "text/plain": [
       "<Figure size 1440x720 with 1 Axes>"
      ]
     },
     "metadata": {
      "needs_background": "light"
     },
     "output_type": "display_data"
    }
   ],
   "source": [
    "plt.figure(figsize=(20,10))\n",
    "sns.countplot(x='State',data=df , hue='Measure')"
   ]
  },
  {
   "cell_type": "code",
   "execution_count": 53,
   "metadata": {},
   "outputs": [],
   "source": [
    "#transformacao na coluna 'Location'\n",
    "df.Location = df.Location.apply(lambda x : str(x).replace('POINT (','') if \n",
    "                               'POINT ('in str(x) else str(x))\n",
    "\n",
    "df.Location=df.Location.apply(lambda x: str(x).replace(\")\",\"\") if \")\" in str(x) else str(x))"
   ]
  },
  {
   "cell_type": "code",
   "execution_count": 54,
   "metadata": {},
   "outputs": [],
   "source": [
    "#transformar a coluna lat e long\n",
    "df_loc = pd.DataFrame(df.Location.str.split(' ',1).tolist(),columns=['lat','long'])\n",
    "df['lat'] = df_loc['lat']\n",
    "df['long'] = df_loc['long']\n"
   ]
  },
  {
   "cell_type": "code",
   "execution_count": 55,
   "metadata": {},
   "outputs": [],
   "source": [
    "df['lat'] = df['lat'].apply(lambda x : float(x))\n",
    "df['long'] = df['long'].apply(lambda x : float(x))"
   ]
  },
  {
   "cell_type": "code",
   "execution_count": 56,
   "metadata": {},
   "outputs": [],
   "source": [
    "df.drop(['Location'],axis=1,inplace=True)"
   ]
  },
  {
   "cell_type": "code",
   "execution_count": 57,
   "metadata": {},
   "outputs": [
    {
     "data": {
      "text/html": [
       "<div>\n",
       "<style scoped>\n",
       "    .dataframe tbody tr th:only-of-type {\n",
       "        vertical-align: middle;\n",
       "    }\n",
       "\n",
       "    .dataframe tbody tr th {\n",
       "        vertical-align: top;\n",
       "    }\n",
       "\n",
       "    .dataframe thead th {\n",
       "        text-align: right;\n",
       "    }\n",
       "</style>\n",
       "<table border=\"1\" class=\"dataframe\">\n",
       "  <thead>\n",
       "    <tr style=\"text-align: right;\">\n",
       "      <th></th>\n",
       "      <th>Port Name</th>\n",
       "      <th>State</th>\n",
       "      <th>Port Code</th>\n",
       "      <th>Border</th>\n",
       "      <th>Date</th>\n",
       "      <th>Measure</th>\n",
       "      <th>Value</th>\n",
       "      <th>lat</th>\n",
       "      <th>long</th>\n",
       "    </tr>\n",
       "  </thead>\n",
       "  <tbody>\n",
       "    <tr>\n",
       "      <th>0</th>\n",
       "      <td>Calexico East</td>\n",
       "      <td>California</td>\n",
       "      <td>2507</td>\n",
       "      <td>US-Mexico Border</td>\n",
       "      <td>03/01/2019 12:00:00 AM</td>\n",
       "      <td>Trucks</td>\n",
       "      <td>34447</td>\n",
       "      <td>-115.48433</td>\n",
       "      <td>32.67524</td>\n",
       "    </tr>\n",
       "    <tr>\n",
       "      <th>1</th>\n",
       "      <td>Van Buren</td>\n",
       "      <td>Maine</td>\n",
       "      <td>108</td>\n",
       "      <td>US-Canada Border</td>\n",
       "      <td>03/01/2019 12:00:00 AM</td>\n",
       "      <td>Rail Containers Full</td>\n",
       "      <td>428</td>\n",
       "      <td>-67.94271</td>\n",
       "      <td>47.16207</td>\n",
       "    </tr>\n",
       "    <tr>\n",
       "      <th>2</th>\n",
       "      <td>Otay Mesa</td>\n",
       "      <td>California</td>\n",
       "      <td>2506</td>\n",
       "      <td>US-Mexico Border</td>\n",
       "      <td>03/01/2019 12:00:00 AM</td>\n",
       "      <td>Trucks</td>\n",
       "      <td>81217</td>\n",
       "      <td>-117.05333</td>\n",
       "      <td>32.57333</td>\n",
       "    </tr>\n",
       "    <tr>\n",
       "      <th>3</th>\n",
       "      <td>Nogales</td>\n",
       "      <td>Arizona</td>\n",
       "      <td>2604</td>\n",
       "      <td>US-Mexico Border</td>\n",
       "      <td>03/01/2019 12:00:00 AM</td>\n",
       "      <td>Trains</td>\n",
       "      <td>62</td>\n",
       "      <td>-110.93361</td>\n",
       "      <td>31.34028</td>\n",
       "    </tr>\n",
       "    <tr>\n",
       "      <th>4</th>\n",
       "      <td>Trout River</td>\n",
       "      <td>New York</td>\n",
       "      <td>715</td>\n",
       "      <td>US-Canada Border</td>\n",
       "      <td>03/01/2019 12:00:00 AM</td>\n",
       "      <td>Personal Vehicle Passengers</td>\n",
       "      <td>16377</td>\n",
       "      <td>-73.44253</td>\n",
       "      <td>44.99001</td>\n",
       "    </tr>\n",
       "  </tbody>\n",
       "</table>\n",
       "</div>"
      ],
      "text/plain": [
       "       Port Name       State  Port Code            Border  \\\n",
       "0  Calexico East  California       2507  US-Mexico Border   \n",
       "1      Van Buren       Maine        108  US-Canada Border   \n",
       "2      Otay Mesa  California       2506  US-Mexico Border   \n",
       "3        Nogales     Arizona       2604  US-Mexico Border   \n",
       "4    Trout River    New York        715  US-Canada Border   \n",
       "\n",
       "                     Date                      Measure  Value        lat  \\\n",
       "0  03/01/2019 12:00:00 AM                       Trucks  34447 -115.48433   \n",
       "1  03/01/2019 12:00:00 AM         Rail Containers Full    428  -67.94271   \n",
       "2  03/01/2019 12:00:00 AM                       Trucks  81217 -117.05333   \n",
       "3  03/01/2019 12:00:00 AM                       Trains     62 -110.93361   \n",
       "4  03/01/2019 12:00:00 AM  Personal Vehicle Passengers  16377  -73.44253   \n",
       "\n",
       "       long  \n",
       "0  32.67524  \n",
       "1  47.16207  \n",
       "2  32.57333  \n",
       "3  31.34028  \n",
       "4  44.99001  "
      ]
     },
     "execution_count": 57,
     "metadata": {},
     "output_type": "execute_result"
    }
   ],
   "source": [
    "df.head()"
   ]
  },
  {
   "cell_type": "code",
   "execution_count": 58,
   "metadata": {},
   "outputs": [],
   "source": [
    "#Alterando a coluna 'Date' em data\n",
    "df['Date'] = pd.to_datetime(df['Date'])"
   ]
  },
  {
   "cell_type": "code",
   "execution_count": 59,
   "metadata": {},
   "outputs": [
    {
     "data": {
      "text/plain": [
       "array([2019, 2018, 2017, 2016, 2015, 2014, 2013, 2012, 2011, 2010, 2009,\n",
       "       2008, 2007, 2006, 2005, 2004, 2003, 2002, 2001, 2000, 1999, 1998,\n",
       "       1997, 1996], dtype=int64)"
      ]
     },
     "execution_count": 59,
     "metadata": {},
     "output_type": "execute_result"
    }
   ],
   "source": [
    "year = df['Date'].map(lambda x : x.year).unique()\n",
    "year"
   ]
  },
  {
   "cell_type": "code",
   "execution_count": 60,
   "metadata": {},
   "outputs": [
    {
     "name": "stdout",
     "output_type": "stream",
     "text": [
      "AtributeValues\n",
      "Port Name 116\n",
      "State 15\n",
      "Port Code 117\n",
      "Border 2\n",
      "Date 279\n",
      "Measure 12\n",
      "Value 53305\n",
      "lat 221\n",
      "long 165\n"
     ]
    }
   ],
   "source": [
    "print('Atribute'  +  'Values')\n",
    "for i in df.columns:\n",
    "    print(i , len(df.loc[: , i].unique()))"
   ]
  },
  {
   "cell_type": "code",
   "execution_count": 61,
   "metadata": {},
   "outputs": [
    {
     "data": {
      "text/plain": [
       "<matplotlib.axes._subplots.AxesSubplot at 0x1fe7bd7da20>"
      ]
     },
     "execution_count": 61,
     "metadata": {},
     "output_type": "execute_result"
    },
    {
     "data": {
      "image/png": "[encoded data removed]",
      "text/plain": [
       "<Figure size 1440x720 with 1 Axes>"
      ]
     },
     "metadata": {
      "needs_background": "light"
     },
     "output_type": "display_data"
    }
   ],
   "source": [
    "plt.figure(figsize=(20,10))\n",
    "sns.barplot(x='State',y='Value',data=df)"
   ]
  },
  {
   "cell_type": "code",
   "execution_count": 62,
   "metadata": {},
   "outputs": [
    {
     "data": {
      "text/plain": [
       "<matplotlib.axes._subplots.AxesSubplot at 0x1fe71a07128>"
      ]
     },
     "execution_count": 62,
     "metadata": {},
     "output_type": "execute_result"
    },
    {
     "data": {
      "image/png": "[encoded data removed]",
      "text/plain": [
       "<Figure size 720x504 with 1 Axes>"
      ]
     },
     "metadata": {
      "needs_background": "light"
     },
     "output_type": "display_data"
    }
   ],
   "source": [
    "plt.figure(figsize=(10,7))\n",
    "sns.countplot(y='Measure',data=df, hue='Border')"
   ]
  },
  {
   "cell_type": "code",
   "execution_count": null,
   "metadata": {},
   "outputs": [],
   "source": []
  },
  {
   "cell_type": "code",
   "execution_count": null,
   "metadata": {},
   "outputs": [],
   "source": [
    "\n"
   ]
  },
  {
   "cell_type": "markdown",
   "metadata": {},
   "source": [
    "# FIM"
   ]
  },
  {
   "cell_type": "code",
   "execution_count": null,
   "metadata": {},
   "outputs": [],
   "source": []
  }
 ],
 "metadata": {
  "kernelspec": {
   "display_name": "Python 3",
   "language": "python",
   "name": "python3"
  },
  "language_info": {
   "codemirror_mode": {
    "name": "ipython",
    "version": 3
   },
   "file_extension": ".py",
   "mimetype": "text/x-python",
   "name": "python",
   "nbconvert_exporter": "python",
   "pygments_lexer": "ipython3",
   "version": "3.7.3"
  }
 },
 "nbformat": 4,
 "nbformat_minor": 2
}
